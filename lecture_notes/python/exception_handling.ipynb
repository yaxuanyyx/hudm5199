{
 "cells": [
  {
   "cell_type": "markdown",
   "metadata": {},
   "source": [
    "## Exception Handling\n",
    "\n",
    "### Programming for Data Science\n",
    "### Last Updated: March 23, 2023\n",
    "---  \n",
    "\n",
    "### PREREQUISITES\n",
    "- data types\n",
    "- variables\n",
    "- operators\n",
    "\n",
    "### SOURCES \n",
    "- errors and exceptions  \n",
    "https://www.geeksforgeeks.org/errors-and-exceptions-in-python/\n",
    "\n",
    "\n",
    "- assert  \n",
    "https://www.tutorialspoint.com/python/assertions_in_python.htm\n",
    "\n",
    "\n",
    "\n",
    "### OBJECTIVES\n",
    "- Discuss errors and exceptions\n",
    "- Explain why exception handling is important\n",
    "- Present methods for catching exceptions:\n",
    "  - try/except logic\n",
    "  - assert statements\n",
    "\n",
    "\n",
    "### CONCEPTS\n",
    "\n",
    "- errors\n",
    "- exceptions\n",
    "- try/except\n",
    "- assert\n",
    "- AssertionError\n",
    "\n",
    "\n",
    "---\n",
    "\n",
    "### Errors and Exceptions\n",
    "\n",
    "Common technical interview question: explain the difference between an `error` and an `exception`.\n",
    "\n",
    "An `error` is a serious problem that a reasonable application should not try to catch.  \n",
    "An error will stop execution.\n",
    "\n",
    "An `exception` is an issue that is expected or known to occur (e.g., division by zero).  \n",
    "Software must handle exceptions. For example, one bad row of data shouldn't bring down the application.\n",
    "\n",
    "### Some Common Built-in Exceptions:\n",
    "\n",
    "`ZeroDivisionError`"
   ]
  },
  {
   "cell_type": "code",
   "execution_count": null,
   "metadata": {},
   "outputs": [],
   "source": [
    "3/0"
   ]
  },
  {
   "cell_type": "markdown",
   "metadata": {},
   "source": [
    "`Syntax Error`"
   ]
  },
  {
   "cell_type": "code",
   "execution_count": null,
   "metadata": {},
   "outputs": [],
   "source": [
    "# if-statement missing colon at end\n",
    "\n",
    "if x>0\n",
    "  print(\"uh oh\")"
   ]
  },
  {
   "cell_type": "markdown",
   "metadata": {},
   "source": [
    "`NameError`"
   ]
  },
  {
   "cell_type": "code",
   "execution_count": null,
   "metadata": {},
   "outputs": [],
   "source": [
    "# references an undefined variable\n",
    "\n",
    "print(x)"
   ]
  },
  {
   "cell_type": "markdown",
   "metadata": {},
   "source": [
    "`IndexError`"
   ]
  },
  {
   "cell_type": "code",
   "execution_count": null,
   "metadata": {},
   "outputs": [],
   "source": [
    "# loop goes off the end of the list\n",
    "\n",
    "lst = [0,1,2]\n",
    "\n",
    "for i in range(4):\n",
    "    print(lst[i])"
   ]
  },
  {
   "cell_type": "markdown",
   "metadata": {},
   "source": [
    "### Exception Handling\n",
    "\n",
    "`try/except` blocks can help handle exceptions (to prevent code from breaking).\n",
    "\n",
    "The statement block in `try` will be attempted.  \n",
    "If it fails, flow goes to the `except` block.\n",
    "\n",
    "Multiple `except` statements may be given, to handle specific exceptions.  \n",
    "Below, we give a catch-all `except` for any kind of exception.\n",
    "\n",
    "**Try referencing a variable that doesn't exist. No exception handling.**    "
   ]
  },
  {
   "cell_type": "code",
   "execution_count": null,
   "metadata": {},
   "outputs": [],
   "source": [
    "# no exception handling. this will just fail.\n",
    "\n",
    "print(a)"
   ]
  },
  {
   "cell_type": "markdown",
   "metadata": {},
   "source": [
    "**Try referencing a variable that doesn't exist.  Added try/except for exception handling.**    "
   ]
  },
  {
   "cell_type": "code",
   "execution_count": null,
   "metadata": {},
   "outputs": [],
   "source": [
    "try:\n",
    "    print(a)\n",
    "except:\n",
    "    print(\"caught an exception\")"
   ]
  },
  {
   "cell_type": "markdown",
   "metadata": {},
   "source": [
    "### Assert Statements\n",
    "\n",
    "`assert` can be used to verify an expression is True.  \n",
    "- if expression is True, nothing happens  \n",
    "- if expression is False, Python raises an `AssertionError` exception\n",
    "\n",
    "The syntax has form:  \n",
    "  \n",
    "`assert Expression[, Arguments]`\n",
    "\n",
    "where [, Arguments] denotes optional arguments.  \n",
    "\n",
    "**Small Example**  \n",
    "A program is expecting three arguments to be passed from the command line.    \n",
    "`num_args` counts the arguments."
   ]
  },
  {
   "cell_type": "code",
   "execution_count": null,
   "metadata": {},
   "outputs": [],
   "source": [
    "num_args = 3\n",
    "\n",
    "assert num_args == 3, \"number of arguments must be 3!\""
   ]
  },
  {
   "cell_type": "markdown",
   "metadata": {},
   "source": [
    "The `assert` evaluates to True, and things proceed normally without exception."
   ]
  },
  {
   "cell_type": "markdown",
   "metadata": {},
   "source": [
    "Next, we change `num_args=4`. This will throw an `AssertionError` with the provided message. The program then stops."
   ]
  },
  {
   "cell_type": "code",
   "execution_count": null,
   "metadata": {},
   "outputs": [],
   "source": [
    "num_args = 4\n",
    "\n",
    "assert num_args == 3, \"number of arguments must be 3!\""
   ]
  },
  {
   "cell_type": "markdown",
   "metadata": {},
   "source": [
    "If the `assert` is not given a message, it throws `AssertionError:`"
   ]
  },
  {
   "cell_type": "code",
   "execution_count": null,
   "metadata": {},
   "outputs": [],
   "source": [
    "num_args = 4\n",
    "\n",
    "assert num_args == 3"
   ]
  },
  {
   "cell_type": "markdown",
   "metadata": {},
   "source": [
    "---"
   ]
  },
  {
   "cell_type": "markdown",
   "metadata": {},
   "source": [
    "### TRY FOR YOURSELF (UNGRADED EXERCISES)"
   ]
  },
  {
   "cell_type": "markdown",
   "metadata": {},
   "source": [
    "1) Write a try/except statement to handle an exception. Verify it works properly."
   ]
  },
  {
   "cell_type": "code",
   "execution_count": null,
   "metadata": {},
   "outputs": [],
   "source": []
  },
  {
   "cell_type": "code",
   "execution_count": null,
   "metadata": {
    "jupyter": {
     "source_hidden": true
    }
   },
   "outputs": [],
   "source": [
    "x = 5\n",
    "y = 0\n",
    "\n",
    "try:\n",
    "    z = x / y\n",
    "    print('z=', z)\n",
    "except:\n",
    "    print('caught an exception!')"
   ]
  },
  {
   "cell_type": "markdown",
   "metadata": {},
   "source": [
    "2) Write an expression and include an `assert` statement to test it.  \n",
    "Run tests where the assert evaluates to True, False, showing the results in each condition."
   ]
  },
  {
   "cell_type": "code",
   "execution_count": null,
   "metadata": {},
   "outputs": [],
   "source": []
  },
  {
   "cell_type": "code",
   "execution_count": null,
   "metadata": {},
   "outputs": [],
   "source": []
  },
  {
   "cell_type": "code",
   "execution_count": null,
   "metadata": {
    "jupyter": {
     "source_hidden": true
    }
   },
   "outputs": [],
   "source": [
    "x = True\n",
    "\n",
    "assert x, \"x should be True!\""
   ]
  },
  {
   "cell_type": "code",
   "execution_count": null,
   "metadata": {
    "jupyter": {
     "source_hidden": true
    }
   },
   "outputs": [],
   "source": [
    "x = False\n",
    "\n",
    "assert x, \"x should be True!\""
   ]
  },
  {
   "cell_type": "markdown",
   "metadata": {},
   "source": [
    "---"
   ]
  }
 ],
 "metadata": {
  "anaconda-cloud": {},
  "kernelspec": {
   "display_name": "Python 3 (ipykernel)",
   "language": "python",
   "name": "python3"
  },
  "language_info": {
   "codemirror_mode": {
    "name": "ipython",
    "version": 3
   },
   "file_extension": ".py",
   "mimetype": "text/x-python",
   "name": "python",
   "nbconvert_exporter": "python",
   "pygments_lexer": "ipython3",
   "version": "3.9.12"
  }
 },
 "nbformat": 4,
 "nbformat_minor": 4
}
