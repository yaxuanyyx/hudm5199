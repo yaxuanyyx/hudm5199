{
 "cells": [
  {
   "cell_type": "markdown",
   "metadata": {},
   "source": [
    "## Control Structures\n",
    "\n",
    "\n",
    "### Programming for Data Science\n",
    "### Last Updated: Jan 15, 2023\n",
    "---  \n",
    "\n",
    "### PREREQUISITES\n",
    "- variables\n",
    "- data types\n",
    "- conditional operators\n",
    "\n",
    "### SOURCES \n",
    "\n",
    "- conditional statements  \n",
    "https://www.w3schools.com/python/python_conditions.asp\n",
    "\n",
    "\n",
    "- `while-loop`  \n",
    "https://www.w3schools.com/python/python_while_loops.asp\n",
    "\n",
    "\n",
    "\n",
    "\n",
    "### OBJECTIVES\n",
    "- Introduce the essential control structures\n",
    " \n",
    "\n",
    "\n",
    "### CONCEPTS\n",
    "\n",
    "- conditional statements\n",
    "- if, else, elif\n",
    "- for-loop\n",
    "- while-loop\n",
    "- break\n",
    "- continue\n",
    "- iteration\n",
    "\n",
    "\n",
    "\n",
    "\n",
    "---\n",
    "\n",
    "## I. Introducing Control Structures\n",
    "\n",
    "Python includes structures to control the flow of a program:\n",
    "\n",
    "- `conditions` (if, else)\n",
    "- `loops`\n",
    "  - `while-loop`    \n",
    "  Execute statements while a condition is true\n",
    "  - `for-loop`    \n",
    "  Iterate over an iterable object (list, tuple, dict, set, string)\n",
    "  \n",
    "Note: as always, proper indentation is essential."
   ]
  },
  {
   "cell_type": "markdown",
   "metadata": {},
   "source": [
    "## II. Conditions\n",
    "\n"
   ]
  },
  {
   "cell_type": "markdown",
   "metadata": {},
   "source": [
    "### `if` and `else` can be used for conditional processing."
   ]
  },
  {
   "cell_type": "code",
   "execution_count": null,
   "metadata": {},
   "outputs": [],
   "source": [
    "val = -2\n",
    "\n",
    "if val >=0:\n",
    "    print(val)\n",
    "else:\n",
    "    print(-val)"
   ]
  },
  {
   "cell_type": "markdown",
   "metadata": {},
   "source": [
    "### using `if`, `elif`\n",
    "\n",
    "`elif` is reached when the previous statements are not."
   ]
  },
  {
   "cell_type": "code",
   "execution_count": null,
   "metadata": {},
   "outputs": [],
   "source": [
    "val = -2\n",
    "\n",
    "if -10 < val < -5:\n",
    "    print('bucket 1')\n",
    "elif -5 <= val < -2:\n",
    "    print('bucket 2')\n",
    "elif val == -2:\n",
    "    print('bucket 3')"
   ]
  },
  {
   "cell_type": "markdown",
   "metadata": {},
   "source": [
    "### TRY FOR YOURSELF (UNGRADED EXERCISES)"
   ]
  },
  {
   "cell_type": "markdown",
   "metadata": {},
   "source": [
    "1) What prints in the above `if`, `elif` example if val = 5?  \n",
    "Copy the code in the cell below and run it"
   ]
  },
  {
   "cell_type": "code",
   "execution_count": null,
   "metadata": {},
   "outputs": [],
   "source": []
  },
  {
   "cell_type": "markdown",
   "metadata": {},
   "source": [
    "### using `if`, `elif`, `else`\n",
    "\n",
    "`else` can be used as a catchall"
   ]
  },
  {
   "cell_type": "code",
   "execution_count": null,
   "metadata": {},
   "outputs": [],
   "source": [
    "val = 5\n",
    "\n",
    "if -10 < val < -5:\n",
    "    print('bucket 1')\n",
    "elif -5 <= val < -2:\n",
    "    print('bucket 2')\n",
    "elif val == -2:\n",
    "    print('bucket 3')\n",
    "else:\n",
    "    print('bucket 4')"
   ]
  },
  {
   "cell_type": "markdown",
   "metadata": {},
   "source": [
    "### writing `if` and `else` as one-liners"
   ]
  },
  {
   "cell_type": "code",
   "execution_count": null,
   "metadata": {},
   "outputs": [],
   "source": [
    "x = 3\n",
    "print('odd') if x % 2 == 1 else print('even')"
   ]
  },
  {
   "cell_type": "markdown",
   "metadata": {},
   "source": [
    "Notice `==` for checking the condition  x % 2 == 1.\n",
    "\n",
    "both `if` and `else` are required. this breaks:"
   ]
  },
  {
   "cell_type": "code",
   "execution_count": null,
   "metadata": {},
   "outputs": [],
   "source": [
    "print('odd') if x % 2 == 1"
   ]
  },
  {
   "cell_type": "markdown",
   "metadata": {},
   "source": [
    "### Using multiple conditions\n",
    "\n",
    "Can build complex statements. Use parentheses carefully, to keep order of operations correct."
   ]
  },
  {
   "cell_type": "code",
   "execution_count": null,
   "metadata": {},
   "outputs": [],
   "source": [
    "# correct\n",
    "\n",
    "val = 2\n",
    "\n",
    "if (-2 < val < 2) or (val > 10):\n",
    "    print('bucket 1')\n",
    "else:\n",
    "    print('bucket 2')"
   ]
  },
  {
   "cell_type": "code",
   "execution_count": null,
   "metadata": {},
   "outputs": [],
   "source": [
    "# incorrect - misplaced parenthesis\n",
    "\n",
    "if (-2 < val) < 2 or val > 10:\n",
    "    print('bucket 1')\n",
    "else:\n",
    "    print('bucket 2')"
   ]
  },
  {
   "cell_type": "markdown",
   "metadata": {},
   "source": [
    "and this is because True < 2, as True is cast to integer value 1"
   ]
  },
  {
   "cell_type": "markdown",
   "metadata": {},
   "source": [
    "this is not the desired result...but does it make sense?"
   ]
  },
  {
   "cell_type": "markdown",
   "metadata": {},
   "source": [
    "## III. Loops"
   ]
  },
  {
   "cell_type": "markdown",
   "metadata": {},
   "source": [
    "### `while-loop`\n",
    "What does this print?"
   ]
  },
  {
   "cell_type": "code",
   "execution_count": null,
   "metadata": {},
   "outputs": [],
   "source": [
    "ix = 1\n",
    "while ix < 10:\n",
    "    ix = ix * 2\n",
    "print(ix)"
   ]
  },
  {
   "cell_type": "markdown",
   "metadata": {},
   "source": [
    "### `break` - exit the loop\n",
    "\n",
    "sometimes you want to quit the loop early, if some condition is met.  \n",
    "uses `if-statement`"
   ]
  },
  {
   "cell_type": "code",
   "execution_count": null,
   "metadata": {},
   "outputs": [],
   "source": [
    "ix = 1\n",
    "while ix < 10:\n",
    "    ix = ix * 2\n",
    "    if ix == 4:\n",
    "        break\n",
    "print(ix)"
   ]
  },
  {
   "cell_type": "markdown",
   "metadata": {},
   "source": [
    "The `break` causes the loop to end early"
   ]
  },
  {
   "cell_type": "markdown",
   "metadata": {},
   "source": [
    "### `continue` - stop the current iteration\n",
    "\n",
    "sometimes you want to introduce skipping behavior in the loop.  \n",
    "uses `if-statement`"
   ]
  },
  {
   "cell_type": "code",
   "execution_count": null,
   "metadata": {},
   "outputs": [],
   "source": [
    "ix = 1\n",
    "while ix < 10:\n",
    "    ix = ix * 2\n",
    "    if ix == 4:\n",
    "        print('skipping 4...')\n",
    "        continue\n",
    "    print(ix)"
   ]
  },
  {
   "cell_type": "markdown",
   "metadata": {},
   "source": [
    "The `continue` causes the loop to skip printing 4"
   ]
  },
  {
   "cell_type": "markdown",
   "metadata": {},
   "source": [
    "### `for-loop`   \n",
    "\n",
    "iterate over an iterable"
   ]
  },
  {
   "cell_type": "code",
   "execution_count": null,
   "metadata": {},
   "outputs": [],
   "source": [
    "cities = ['Charlottesville','New York','SF','BOS','LA']\n",
    "\n",
    "for city in cities:\n",
    "    city = city.lower()\n",
    "    print(city)"
   ]
  },
  {
   "cell_type": "markdown",
   "metadata": {},
   "source": [
    "quit early if `SF` reached, using **break**"
   ]
  },
  {
   "cell_type": "code",
   "execution_count": null,
   "metadata": {},
   "outputs": [],
   "source": [
    "cities = ['Charlottesville','New York','SF','BOS','LA']\n",
    "\n",
    "for city in cities:\n",
    "    if city == 'SF':\n",
    "        break\n",
    "    city = city.lower()\n",
    "    print(city)"
   ]
  },
  {
   "cell_type": "markdown",
   "metadata": {},
   "source": [
    "skip over `SF` if reached, using **continue**"
   ]
  },
  {
   "cell_type": "code",
   "execution_count": null,
   "metadata": {},
   "outputs": [],
   "source": [
    "cities = ['Charlottesville','New York','SF','BOS','LA']\n",
    "\n",
    "for city in cities:\n",
    "    if city == 'SF':\n",
    "        continue\n",
    "    city = city.lower()\n",
    "    print(city)"
   ]
  },
  {
   "cell_type": "markdown",
   "metadata": {},
   "source": [
    "---"
   ]
  },
  {
   "cell_type": "markdown",
   "metadata": {},
   "source": [
    "### TRY FOR YOURSELF (UNGRADED EXERCISES)"
   ]
  },
  {
   "cell_type": "markdown",
   "metadata": {},
   "source": [
    "2) Write code that does the following:\n",
    "- define a list of integers xx = [-2, 8, 0, 5, 6]\n",
    "- compute the maximum, storing in `max_val`\n",
    "- loop over each value in the list\n",
    "- if the value is less than the maximum, print the value\n",
    "- otherwise, print the string 'max_val'"
   ]
  },
  {
   "cell_type": "code",
   "execution_count": null,
   "metadata": {
    "jupyter": {
     "source_hidden": true
    }
   },
   "outputs": [],
   "source": [
    "xx = [-2, 8, 0, 5, 6]\n",
    "max_val = max(xx)\n",
    "\n",
    "for x in xx:\n",
    "    if x < max_val:\n",
    "        print(x)\n",
    "    else:\n",
    "        print('max_val')"
   ]
  },
  {
   "cell_type": "markdown",
   "metadata": {},
   "source": [
    "3a) Write code that does the following:\n",
    "\n",
    "- set a variable `it` to 0\n",
    "- set a variable `max_iter` to 100\n",
    "- while `it` < `max_iter`, do the following:\n",
    "  - if `it` = 0 or `it` is divisible by 10, print `it`. hint: use modulo operator %\n",
    "- increase `it` by 1\n",
    "- when `it` >= `max_iter`, the program should quit"
   ]
  },
  {
   "cell_type": "code",
   "execution_count": null,
   "metadata": {},
   "outputs": [],
   "source": []
  },
  {
   "cell_type": "code",
   "execution_count": null,
   "metadata": {
    "jupyter": {
     "source_hidden": true
    }
   },
   "outputs": [],
   "source": [
    "it       = 0\n",
    "max_iter = 100\n",
    "\n",
    "while it < max_iter:\n",
    "    if (it == 0) or (it % 10 == 0):\n",
    "        print(it)\n",
    "    it += 1"
   ]
  },
  {
   "cell_type": "markdown",
   "metadata": {},
   "source": [
    "3b) How many iterations did (3a) run?"
   ]
  },
  {
   "cell_type": "code",
   "execution_count": null,
   "metadata": {},
   "outputs": [],
   "source": []
  },
  {
   "cell_type": "markdown",
   "metadata": {
    "jupyter": {
     "source_hidden": true
    }
   },
   "source": [
    "100, since it runs for range from 0...99"
   ]
  },
  {
   "cell_type": "markdown",
   "metadata": {},
   "source": [
    "---"
   ]
  }
 ],
 "metadata": {
  "anaconda-cloud": {},
  "kernelspec": {
   "display_name": "Python 3 (ipykernel)",
   "language": "python",
   "name": "python3"
  },
  "language_info": {
   "codemirror_mode": {
    "name": "ipython",
    "version": 3
   },
   "file_extension": ".py",
   "mimetype": "text/x-python",
   "name": "python",
   "nbconvert_exporter": "python",
   "pygments_lexer": "ipython3",
   "version": "3.9.12"
  }
 },
 "nbformat": 4,
 "nbformat_minor": 4
}
