{
 "cells": [
  {
   "cell_type": "markdown",
   "metadata": {},
   "source": [
    "## Visualization: `matplotlib`\n",
    "\n",
    "### Programming for Data Science\n",
    "### Created: April 11, 2023\n",
    "---  \n",
    "\n",
    "### PREREQUISITES\n",
    "- variables\n",
    "- data types\n",
    "- numpy\n",
    "- pandas\n",
    "\n",
    "### SOURCES \n",
    "- https://matplotlib.org/\n",
    "\n",
    "### OBJECTIVES\n",
    "- Introduce some basic functionality of the `matplotlib` package\n",
    "\n",
    "### CONCEPTS\n",
    "- creating various visualizations (e.g., scatterplot, boxplot, histrogram)\n",
    "- changing xlabel, ylabel, and title\n",
    "- changing figure styles\n",
    "- saving plots\n",
    "- creating subplots to display multiple plots in a single figure \n",
    "---"
   ]
  },
  {
   "cell_type": "markdown",
   "metadata": {},
   "source": [
    "### `matplotlib`\n",
    "\n",
    "`matplotlib` is a comprehensive library for creating static, animated, and interactive visualizations in Python.\n",
    "\n",
    "Below are some quick examples. See documentation for more details and examples.\n",
    "\n",
    "`plt.[figtype]` for some [figtype] will create the figure.\n",
    "\n",
    "You can layer on details such as titles, a legend, etc."
   ]
  },
  {
   "cell_type": "markdown",
   "metadata": {},
   "source": [
    "#### Load packages and import some data"
   ]
  },
  {
   "cell_type": "code",
   "execution_count": null,
   "metadata": {},
   "outputs": [],
   "source": [
    "import matplotlib.pyplot as plt # `plt` is an alias for the `matplotlib.pyplot` module.\n",
    "import numpy as np\n",
    "import pandas as pd\n",
    "import seaborn as sns # (wrapper of matplotlib)"
   ]
  },
  {
   "cell_type": "markdown",
   "metadata": {},
   "source": [
    "The ``inline`` flag allows us to display plots inline in the notebook."
   ]
  },
  {
   "cell_type": "code",
   "execution_count": null,
   "metadata": {},
   "outputs": [],
   "source": [
    "%matplotlib inline"
   ]
  },
  {
   "cell_type": "markdown",
   "metadata": {},
   "source": [
    "Import a wine quality dataset from UCI. Note the separator ';', othewise, the data doesn't parse into columns."
   ]
  },
  {
   "cell_type": "code",
   "execution_count": null,
   "metadata": {},
   "outputs": [],
   "source": [
    "url = 'http://archive.ics.uci.edu/ml/machine-learning-databases/wine-quality/winequality-white.csv'\n",
    "df = pd.read_csv(url, sep=';') # load wine data\n",
    "df.head() # view the first 5 rows of the dataframe"
   ]
  },
  {
   "cell_type": "markdown",
   "metadata": {},
   "source": [
    "Check if we have nans in the data. It is difficult to plot data with nans."
   ]
  },
  {
   "cell_type": "code",
   "execution_count": null,
   "metadata": {},
   "outputs": [],
   "source": [
    "df.info()"
   ]
  },
  {
   "cell_type": "markdown",
   "metadata": {},
   "source": [
    "---\n",
    "\n",
    "### Basics\n",
    "\n",
    "#### `plot` method\n",
    "\n",
    "Plot *pH* on the x axis and *density* on the y axis. "
   ]
  },
  {
   "cell_type": "code",
   "execution_count": null,
   "metadata": {},
   "outputs": [],
   "source": [
    "help(plt.plot)"
   ]
  },
  {
   "cell_type": "code",
   "execution_count": null,
   "metadata": {},
   "outputs": [],
   "source": [
    "plt.plot(df.pH, df.density) # plot x and y using default line style and color"
   ]
  },
  {
   "cell_type": "markdown",
   "metadata": {},
   "source": [
    "#### Change Marker and Color"
   ]
  },
  {
   "cell_type": "markdown",
   "metadata": {},
   "source": [
    "**Marker**\n",
    "\n",
    "string | description\n",
    "--- | ---\n",
    "'.' | point marker\n",
    "',' | pixel marker\n",
    "'o' | circle marker\n",
    "'v' | triangle_down marker\n",
    "'^' | triangle_up marker\n",
    "'<' | triangle_left marker\n",
    "'>' | triangle_right marker\n",
    "'s'\t| square marker\n",
    "'\\*' | star marker\n",
    "'+' | plus marker\n",
    "'x' | x marker\n",
    "\n",
    "**Color**\n",
    "\n",
    "string | color\n",
    "--- | ---\n",
    "'b' | blue\n",
    "'blue' | blue\n",
    "'g' | green\n",
    "'green' | green\n",
    "'r' | red\n",
    "'red' | red\n",
    "'c' | cyan\n",
    "'cyan' | cyan\n",
    "'m' | magenta\n",
    "'magenta' | magenta\n",
    "'y' | yellow\n",
    "'yellow' | yellow\n",
    "'k' | black\n",
    "'black' | black\n",
    "'w' | white\n",
    "'white' | white\n",
    "\n",
    "The parameter can also recognize hexadecimal strings. For example, the color green is represented as '#008000'. It is also possible to use RGB tuples.\n",
    "\n",
    "A format string consists of a part for color, marker and line:\n",
    " \n",
    "`fmt = '[marker][line][color]'`"
   ]
  },
  {
   "cell_type": "code",
   "execution_count": null,
   "metadata": {},
   "outputs": [],
   "source": [
    "plt.plot(df.pH, df.density, 'or') # plot x and y using red circle markers"
   ]
  },
  {
   "cell_type": "code",
   "execution_count": null,
   "metadata": {},
   "outputs": [],
   "source": [
    "plt.plot(df.pH, df.density, color = 'r', marker = 'o', linestyle='') # the same figure with multiple parameters"
   ]
  },
  {
   "cell_type": "code",
   "execution_count": null,
   "metadata": {},
   "outputs": [],
   "source": [
    "plt.plot(df.pH, df.density, '.b') # plot x and y using blue point markers"
   ]
  },
  {
   "cell_type": "code",
   "execution_count": null,
   "metadata": {},
   "outputs": [],
   "source": [
    "plt.plot(df.pH, df.density, '.-b') \n",
    "# plot x and y using blue point markers with lines\n",
    "# Adding lines is not useful for this figure."
   ]
  },
  {
   "cell_type": "code",
   "execution_count": null,
   "metadata": {},
   "outputs": [],
   "source": [
    "plt.plot(df.pH, df.density, c = (0, 0, 0), marker = '.', linestyle='', markersize = 10)\n",
    "# Use rgb tuples: (0, 0, 0) is black and (0, 0, 1) is blue"
   ]
  },
  {
   "cell_type": "markdown",
   "metadata": {
    "tags": []
   },
   "source": [
    "#### Setting plot titles, labels, and limits\n",
    "\n",
    "- Set xlim and ylim."
   ]
  },
  {
   "cell_type": "code",
   "execution_count": null,
   "metadata": {},
   "outputs": [],
   "source": [
    "plt.plot(df.pH, df.density, 'ok')\n",
    "plt.xlim(left=2.6, right=3.9)\n",
    "plt.ylim(bottom=0.98, top=1.02) "
   ]
  },
  {
   "cell_type": "markdown",
   "metadata": {},
   "source": [
    "- Set xlabel, ylabel, and title."
   ]
  },
  {
   "cell_type": "code",
   "execution_count": null,
   "metadata": {},
   "outputs": [],
   "source": [
    "plt.plot(df.pH, df.density, 'ok')\n",
    "plt.xlabel('pH')\n",
    "plt.ylabel('Density')\n",
    "plt.title('Relationship between pH and Density')"
   ]
  },
  {
   "cell_type": "markdown",
   "metadata": {},
   "source": [
    "- Change fontsize."
   ]
  },
  {
   "cell_type": "code",
   "execution_count": null,
   "metadata": {},
   "outputs": [],
   "source": [
    "plt.plot(df.pH, df.density, 'ok')\n",
    "plt.xlabel('pH', fontsize = 15)\n",
    "plt.ylabel('Density', fontsize = 15)\n",
    "plt.title('Relationship between pH and Density', fontsize = 20)"
   ]
  },
  {
   "cell_type": "code",
   "execution_count": null,
   "metadata": {},
   "outputs": [],
   "source": [
    "# Change tick font size\n",
    "plt.plot(df.pH, df.density, 'ok')\n",
    "plt.xlabel('pH', fontsize = 15)\n",
    "plt.ylabel('Density', fontsize = 15)\n",
    "plt.title('Relationship between pH and Density', fontsize = 20)\n",
    "plt.xticks(fontsize = 15)\n",
    "plt.yticks(fontsize = 15)\n",
    "plt.show()"
   ]
  },
  {
   "cell_type": "markdown",
   "metadata": {},
   "source": [
    "#### Figure Style\n",
    "\n",
    "`plt.style.available` offers us a selection of figure styles that we can use. The style that is set as default is not very visually appealing."
   ]
  },
  {
   "cell_type": "code",
   "execution_count": null,
   "metadata": {},
   "outputs": [],
   "source": [
    "plt.style.available"
   ]
  },
  {
   "cell_type": "code",
   "execution_count": null,
   "metadata": {},
   "outputs": [],
   "source": [
    "plt.style.use('classic') # this is very similar to the default style.\n",
    "plt.plot(df.pH, df.density, '.') "
   ]
  },
  {
   "cell_type": "code",
   "execution_count": null,
   "metadata": {},
   "outputs": [],
   "source": [
    "plt.style.use('ggplot') # `ggplot` style from R\n",
    "plt.plot(df.pH, df.density, '.') "
   ]
  },
  {
   "cell_type": "code",
   "execution_count": null,
   "metadata": {},
   "outputs": [],
   "source": [
    "plt.style.use('seaborn') # a wrapper from matplotlib\n",
    "plt.plot(df.pH, df.density, '.') "
   ]
  },
  {
   "cell_type": "markdown",
   "metadata": {
    "tags": []
   },
   "source": [
    "---\n",
    "\n",
    "### Grids"
   ]
  },
  {
   "cell_type": "code",
   "execution_count": null,
   "metadata": {},
   "outputs": [],
   "source": [
    "plt.style.use('default') # use the default style. Note that it's not listed under plt.style.available"
   ]
  },
  {
   "cell_type": "code",
   "execution_count": null,
   "metadata": {},
   "outputs": [],
   "source": [
    "plt.plot(df.pH, df.density, 'ok')\n",
    "plt.grid()\n",
    "\n",
    "# plt.figure(figsize=(4, 3)) # change figure size"
   ]
  },
  {
   "cell_type": "code",
   "execution_count": null,
   "metadata": {},
   "outputs": [],
   "source": [
    "# add vertical grid lines only\n",
    "plt.plot(df.pH, df.density, 'ok')\n",
    "plt.grid(axis = 'x')"
   ]
  },
  {
   "cell_type": "code",
   "execution_count": null,
   "metadata": {},
   "outputs": [],
   "source": [
    "# add horizontal grid lines only\n",
    "plt.plot(df.pH, df.density, 'ok')\n",
    "plt.grid(axis = 'y')"
   ]
  },
  {
   "cell_type": "code",
   "execution_count": null,
   "metadata": {},
   "outputs": [],
   "source": [
    "# change the color, transparency, and linestyle of grid lines\n",
    "plt.plot(df.pH, df.density, 'ok')\n",
    "plt.grid(color = 'r', \n",
    "         alpha = 0.5,\n",
    "         linestyle = 'dotted')"
   ]
  },
  {
   "cell_type": "markdown",
   "metadata": {
    "tags": []
   },
   "source": [
    "---\n",
    "\n",
    "### Legends\n",
    "\n",
    "Legends help to give meaning to the various elements in your plots.\n",
    "\n",
    "The `loc` parameter, which determines the location of the legend, can take in strings, integers, and tuples.\n",
    "\n",
    "string | int\n",
    "--- | ---\n",
    "'best' | 0\n",
    "'upper right' | 1\n",
    "'upper left' | 2\n",
    "'lower left' |3\n",
    "'lower right' | 4\n",
    "'right' | 5\n",
    "'center left' | 6\n",
    "'center right' | 7\n",
    "'lower center' | 8\n",
    "'upper center' | 9\n",
    "'center' | 10\n",
    "\n",
    "If a tuple with two elements `x, y` is used, it sets the position of the legend in the axes coordinates, where the point (0, 0) represents the lower-left corner of the legend."
   ]
  },
  {
   "cell_type": "code",
   "execution_count": null,
   "metadata": {
    "scrolled": true
   },
   "outputs": [],
   "source": [
    "# plot another info on the same graph, and add a legend.\n",
    "plt.plot(df.pH, df[\"fixed acidity\"], '.k', label = \"Fixed acidity\")\n",
    "plt.plot(df.pH, df[\"volatile acidity\"], '.r', label = \"Volatile acidity\")\n",
    "plt.legend()"
   ]
  },
  {
   "cell_type": "code",
   "execution_count": null,
   "metadata": {},
   "outputs": [],
   "source": [
    "# change the position/location of the legend\n",
    "plt.plot(df.pH, df[\"fixed acidity\"], '.k', label = \"Fixed acidity\")\n",
    "plt.plot(df.pH, df[\"volatile acidity\"], '.r', label = \"Volatile acidity\")\n",
    "plt.legend(loc=\"upper left\")"
   ]
  },
  {
   "cell_type": "code",
   "execution_count": null,
   "metadata": {},
   "outputs": [],
   "source": [
    "# Move the legend outside the plot area.\n",
    "plt.plot(df.pH, df[\"fixed acidity\"], '.k', label = \"Fixed acidity\")\n",
    "plt.plot(df.pH, df[\"volatile acidity\"], '.r', label = \"Volatile acidity\")\n",
    "plt.legend(loc=(1.03,0))"
   ]
  },
  {
   "cell_type": "markdown",
   "metadata": {},
   "source": [
    "---\n",
    "\n",
    "### Saving Plots\n",
    "\n",
    "It is essential to save your visualizations outside of your Jupyter notebook so that you can share them with others. It is equally important to check the saved visualization because the graph may appear differently in the image file compared to how it looks in the notebook."
   ]
  },
  {
   "cell_type": "code",
   "execution_count": null,
   "metadata": {},
   "outputs": [],
   "source": [
    "plt.style.use('seaborn') # change plot style\n",
    "\n",
    "# The appearance of an image in a notebook may differ from how it appears when saved.\n",
    "plt.plot(df.pH, df[\"fixed acidity\"], '.k', label = \"Fixed acidity\")\n",
    "plt.plot(df.pH, df[\"volatile acidity\"], '.r', label = \"Volatile acidity\")\n",
    "plt.xlabel('pH')\n",
    "plt.ylabel('Acidity')\n",
    "plt.title('Relationship between pH and two types of acidity')\n",
    "plt.legend(loc=(1.01,0))\n",
    "\n",
    "plt.savefig('figure1.png', dpi = 300)"
   ]
  },
  {
   "cell_type": "code",
   "execution_count": null,
   "metadata": {},
   "outputs": [],
   "source": [
    "# To ensure the subplots fit well within the figure area, the function tight_layout() can be employed to automatically adjust the subplot parameters.\n",
    "plt.plot(df.pH, df[\"fixed acidity\"], '.k', label = \"Fixed acidity\")\n",
    "plt.plot(df.pH, df[\"volatile acidity\"], '.r', label = \"Volatile acidity\")\n",
    "plt.xlabel('pH')\n",
    "plt.ylabel('Acidity')\n",
    "plt.title('Relationship between pH and two types of acidity')\n",
    "plt.legend(loc=(1.03,0))\n",
    "\n",
    "plt.tight_layout()\n",
    "plt.savefig('figure2.png', dpi = 300)"
   ]
  },
  {
   "cell_type": "markdown",
   "metadata": {},
   "source": [
    "---"
   ]
  },
  {
   "cell_type": "markdown",
   "metadata": {},
   "source": [
    "#### TRY FOR YOURSELF\n",
    "Do the following:\n",
    "\n",
    "- Use the `plot` function from `matplotlib` to create a scatter plot based on the wine data.\n",
    "   - Change the figure style. \n",
    "   - Fit a scatterplot with any two numeric variables from the data, using the `plot` function.\n",
    "   - Add x-label, y-label, and title.\n",
    "   - Save the plot as a `.png` file."
   ]
  },
  {
   "cell_type": "code",
   "execution_count": null,
   "metadata": {},
   "outputs": [],
   "source": []
  },
  {
   "cell_type": "code",
   "execution_count": null,
   "metadata": {
    "jupyter": {
     "source_hidden": true
    },
    "tags": []
   },
   "outputs": [],
   "source": [
    "plt.style.use('fivethirtyeight') # change figure style\n",
    "plt.plot(df.pH, df.alcohol, \"ob\")\n",
    "plt.xlabel(\"pH\")\n",
    "plt.ylabel(\"Alcohol\")\n",
    "plt.title(\"Relationship between pH and Alcohol\")\n",
    "plt.tight_layout()\n",
    "plt.savefig('figure3.png', dpi = 300)"
   ]
  },
  {
   "cell_type": "markdown",
   "metadata": {},
   "source": [
    "---\n",
    "### Different Types of Plots\n",
    "\n",
    "Import `iris` data"
   ]
  },
  {
   "cell_type": "code",
   "execution_count": null,
   "metadata": {},
   "outputs": [],
   "source": [
    "import seaborn as sns\n",
    "\n",
    "iris = sns.load_dataset('iris')"
   ]
  },
  {
   "cell_type": "code",
   "execution_count": null,
   "metadata": {},
   "outputs": [],
   "source": [
    "iris.head()"
   ]
  },
  {
   "cell_type": "code",
   "execution_count": null,
   "metadata": {},
   "outputs": [],
   "source": [
    "iris.species.value_counts()"
   ]
  },
  {
   "cell_type": "markdown",
   "metadata": {},
   "source": [
    "#### Barplot\n",
    "\n",
    "**Using matplotlib**\n",
    "\n",
    "The `matplotlib` library provides a basic set of tools and requires more code to perform complex tasks."
   ]
  },
  {
   "cell_type": "code",
   "execution_count": null,
   "metadata": {},
   "outputs": [],
   "source": [
    "plt.bar(iris.species.value_counts().index, iris.species.value_counts(), color ='green',\n",
    "        width = 0.4)\n",
    "plt.xlabel(\"Species\")\n",
    "plt.ylabel(\"Count\")"
   ]
  },
  {
   "cell_type": "markdown",
   "metadata": {},
   "source": [
    "**Using pandas**\n",
    "\n",
    "You can use `pandas` as a layer over Matplotlib. One of the benefits of using Pandas for plotting is that it requires less code to produce a plot."
   ]
  },
  {
   "cell_type": "code",
   "execution_count": null,
   "metadata": {},
   "outputs": [],
   "source": [
    "iris.species.value_counts().plot(kind='bar', rot=0)\n",
    "plt.xlabel(\"Species\")\n",
    "plt.ylabel(\"Count\")"
   ]
  },
  {
   "cell_type": "markdown",
   "metadata": {},
   "source": [
    "**Using seaborn**\n",
    "\n",
    "`Seaborn` is a nice visualization library based on matplotlib.  The graphs are generally more appealing than matplotlib. Refer to [seaborn's website](https://seaborn.pydata.org/tutorial/introduction) for more details. "
   ]
  },
  {
   "cell_type": "code",
   "execution_count": null,
   "metadata": {},
   "outputs": [],
   "source": [
    "sns.countplot(x=\"species\", data=iris)\n",
    "plt.xlabel(\"Species\")\n",
    "plt.ylabel(\"Count\")"
   ]
  },
  {
   "cell_type": "code",
   "execution_count": null,
   "metadata": {},
   "outputs": [],
   "source": [
    "sns.barplot(x=iris.species.value_counts().index, y=iris.species.value_counts())\n",
    "plt.xlabel(\"Species\")\n",
    "plt.ylabel(\"Count\")"
   ]
  },
  {
   "cell_type": "markdown",
   "metadata": {},
   "source": [
    "#### Boxplot\n",
    "\n",
    "A boxplot is a widely used method of representing the distribution of data using a summary of five numbers (minimum, first quartile, second quartile, third quartile, and maximum). It provides information about outliers, symmetry of data, and the degree of grouping."
   ]
  },
  {
   "cell_type": "markdown",
   "metadata": {},
   "source": [
    "**Using matplotlib**\n"
   ]
  },
  {
   "cell_type": "code",
   "execution_count": null,
   "metadata": {},
   "outputs": [],
   "source": [
    "sl_setosa = iris.loc[iris['species']=='setosa','sepal_length'].values\n",
    "sl_versicolor = iris.loc[iris['species']=='versicolor','sepal_length'].values\n",
    "sl_virginica = iris.loc[iris['species']=='virginica','sepal_length'].values\n",
    "\n",
    "plt.boxplot([sl_setosa,sl_versicolor,sl_virginica], labels=['setosa', 'versicolor', 'virginica'])\n",
    "plt.xlabel('Species')\n",
    "plt.ylabel('Sepal Length')\n",
    "plt.title('Distributions of Sepal Length by Species')"
   ]
  },
  {
   "cell_type": "markdown",
   "metadata": {},
   "source": [
    "**Using pandas**\n"
   ]
  },
  {
   "cell_type": "code",
   "execution_count": null,
   "metadata": {},
   "outputs": [],
   "source": [
    "iris.boxplot(column = 'sepal_length', by = 'species')"
   ]
  },
  {
   "cell_type": "code",
   "execution_count": null,
   "metadata": {},
   "outputs": [],
   "source": [
    "# eliminate the subtitle and title, and add a ylabel\n",
    "iris.boxplot(column = 'sepal_length', by = 'species')\n",
    "plt.title('')\n",
    "plt.suptitle('')\n",
    "plt.ylabel('Sepal Length')"
   ]
  },
  {
   "cell_type": "markdown",
   "metadata": {},
   "source": [
    "**Using seaborn**\n"
   ]
  },
  {
   "cell_type": "code",
   "execution_count": null,
   "metadata": {},
   "outputs": [],
   "source": [
    "import seaborn as sns\n",
    "\n",
    "sns.boxplot(x='species', y='sepal_length', data=iris)\n",
    "plt.xlabel('Species')\n",
    "plt.ylabel('Sepal Length')\n",
    "plt.title('Distributions of Sepal Length by Species')"
   ]
  },
  {
   "cell_type": "markdown",
   "metadata": {},
   "source": [
    "#### Histogram\n",
    "\n",
    "A histogram is a way to represent the distribution of a variable. It involves dividing the entire range of the variable into a set of intervals or bins and counting how many values fall within each bin. "
   ]
  },
  {
   "cell_type": "code",
   "execution_count": null,
   "metadata": {},
   "outputs": [],
   "source": [
    "# using matplotlib\n",
    "plt.hist(iris.sepal_length)\n",
    "plt.xlabel('Sepal Length')\n",
    "plt.title('Distributions of Sepal Length')"
   ]
  },
  {
   "cell_type": "code",
   "execution_count": null,
   "metadata": {},
   "outputs": [],
   "source": [
    "# using pandas\n",
    "iris['sepal_length'].hist()\n",
    "plt.xlabel('Sepal Length')\n",
    "plt.title('Distributions of Sepal Length')"
   ]
  },
  {
   "cell_type": "code",
   "execution_count": null,
   "metadata": {},
   "outputs": [],
   "source": [
    "# Customizing the settings: using 20 bins\n",
    "iris['sepal_length'].hist(bins = 20)\n",
    "plt.xlabel('Sepal Length')\n",
    "plt.title('Distributions of Sepal Length')"
   ]
  },
  {
   "cell_type": "code",
   "execution_count": null,
   "metadata": {},
   "outputs": [],
   "source": [
    "# Customizing the settings: selecting a portion of the data and assigning the edgecolor as black.\n",
    "sl_filter = iris.loc[:, 'sepal_length'] <= 6\n",
    "iris.loc[sl_filter, 'sepal_length'].hist(bins = 20, edgecolor='black')"
   ]
  },
  {
   "cell_type": "code",
   "execution_count": null,
   "metadata": {},
   "outputs": [],
   "source": [
    "# using seaborn\n",
    "sns.histplot(iris, x='sepal_length') # try with , bins=20, kde=True"
   ]
  },
  {
   "cell_type": "markdown",
   "metadata": {},
   "source": [
    "#### Scatter Plot\n",
    "\n",
    "A scatter plot is a type of plot that shows the relationship between two variables, and it typically displays the data points as a collection of dots. We used the `plot` function above, and here we use the `scatter` function to create a scatter plot. "
   ]
  },
  {
   "cell_type": "code",
   "execution_count": null,
   "metadata": {},
   "outputs": [],
   "source": [
    "# using matplotlib\n",
    "plt.scatter(iris.sepal_length, iris.sepal_width)\n",
    "plt.title('Sepal Length vs Sepal Width')\n",
    "plt.xlabel('Sepal Length') \n",
    "plt.ylabel('Sepal Width') \n",
    "plt.grid()"
   ]
  },
  {
   "cell_type": "code",
   "execution_count": null,
   "metadata": {},
   "outputs": [],
   "source": [
    "# using seaborn\n",
    "sns.scatterplot(data=iris, x=\"sepal_length\", y=\"sepal_width\")\n",
    "plt.title('Sepal Length vs Sepal Width')\n",
    "plt.xlabel('Sepal Length') \n",
    "plt.ylabel('Sepal Width') \n",
    "plt.grid()"
   ]
  },
  {
   "cell_type": "code",
   "execution_count": null,
   "metadata": {},
   "outputs": [],
   "source": [
    "# Use parameter `hue` to vary the color of points. \n",
    "sns.scatterplot(data=iris, x=\"sepal_length\", y=\"sepal_width\", hue=\"species\")"
   ]
  },
  {
   "cell_type": "code",
   "execution_count": null,
   "metadata": {},
   "outputs": [],
   "source": [
    "# Additionally, use parameter `style' to vary the makers. \n",
    "sns.scatterplot(data=iris, x=\"sepal_length\", y=\"sepal_width\", hue=\"species\", style=\"species\")"
   ]
  },
  {
   "cell_type": "markdown",
   "metadata": {},
   "source": [
    "#### Subplot\n",
    "\n",
    "It's often useful to compare different subsets of data side by side."
   ]
  },
  {
   "cell_type": "code",
   "execution_count": null,
   "metadata": {},
   "outputs": [],
   "source": [
    "# generate some data\n",
    "x1 = np.linspace(0.0, 5.0)\n",
    "x2 = np.linspace(0.0, 5.0)\n",
    "\n",
    "y1 = np.sin(2 * np.pi * x1) * np.exp(-x1)\n",
    "y2 = np.sin(2 * np.pi * x2)\n",
    "\n",
    "# two rows, one column, first figure\n",
    "plt.subplot(2, 1, 1)\n",
    "plt.plot(x1, y1, 'o-')\n",
    "plt.title('Two subplots') # this is main title of figures\n",
    "plt.ylabel('Damped oscillation')\n",
    "\n",
    "# two rows, one column, second figure\n",
    "plt.subplot(2, 1, 2)\n",
    "plt.plot(x2, y2, '.-')\n",
    "plt.xlabel('time (s)')\n",
    "plt.ylabel('Undamped')\n",
    "plt.show()"
   ]
  },
  {
   "cell_type": "markdown",
   "metadata": {},
   "source": [
    "---  "
   ]
  },
  {
   "cell_type": "markdown",
   "metadata": {},
   "source": [
    "#### TRY FOR YOURSELF\n",
    "Do the following:\n",
    "\n",
    "- Use `matplotlib` to create your own visualizations based on the wine data\n",
    "- Challenge: Given response variable y and a list of X variables, write a *loop* that builds graphs of y versus each x in X.  \n",
    "  Hint: include `plt.show()` after each graph to show them all together."
   ]
  },
  {
   "cell_type": "code",
   "execution_count": null,
   "metadata": {},
   "outputs": [],
   "source": []
  },
  {
   "cell_type": "code",
   "execution_count": null,
   "metadata": {
    "jupyter": {
     "source_hidden": true
    },
    "tags": []
   },
   "outputs": [],
   "source": [
    "y = df.pH\n",
    "X = ['chlorides','citric acid','density']\n",
    "\n",
    "nrows = len(X)\n",
    "\n",
    "for row in range(nrows):\n",
    "    plt.subplot(nrows, 1, row+1)\n",
    "    plt.scatter(df[X[row]], y)\n",
    "    plt.title('pH vs {}'.format(X[row]))\n",
    "    plt.xlabel(X[row]) \n",
    "    plt.ylabel('pH') \n",
    "    plt.show()"
   ]
  }
 ],
 "metadata": {
  "anaconda-cloud": {},
  "kernelspec": {
   "display_name": "Python 3 (ipykernel)",
   "language": "python",
   "name": "python3"
  },
  "language_info": {
   "codemirror_mode": {
    "name": "ipython",
    "version": 3
   },
   "file_extension": ".py",
   "mimetype": "text/x-python",
   "name": "python",
   "nbconvert_exporter": "python",
   "pygments_lexer": "ipython3",
   "version": "3.9.12"
  },
  "toc-autonumbering": false,
  "toc-showcode": false
 },
 "nbformat": 4,
 "nbformat_minor": 4
}
