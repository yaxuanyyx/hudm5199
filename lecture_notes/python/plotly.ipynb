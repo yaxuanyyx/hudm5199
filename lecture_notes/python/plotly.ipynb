{
 "cells": [
  {
   "cell_type": "markdown",
   "metadata": {},
   "source": [
    "## Visualization: `plotly`\n",
    "\n",
    "### Programming for Data Science\n",
    "### Created: April 11, 2023\n",
    "---  \n",
    "\n",
    "### PREREQUISITES\n",
    "- variables\n",
    "- data types\n",
    "- numpy\n",
    "- pandas\n",
    "- matplotlib\n",
    "\n",
    "### SOURCES \n",
    "- https://plotly.com/python/\n",
    "\n",
    "### OBJECTIVES\n",
    "- Introduce some basic functionality of the `plotly` package\n",
    "\n",
    "### CONCEPTS\n",
    "- creating baisc visualizations (e.g., barplot, histrogram, scatterplot)\n",
    "- drawing specialized plots (e.g., map plot, sunburst plot)\n",
    "- changing xlabel, ylabel, and title\n",
    "- creating subplots or facets to display multiple plots in a single figure \n",
    "- adding animnations to visualize changes over time or across data subsets.\n",
    "\n",
    "---"
   ]
  },
  {
   "cell_type": "markdown",
   "metadata": {},
   "source": [
    "### `plotly`\n",
    "\n",
    "- `plotly` is a high-level interface to [plotly.js](https://github.com/plotly/plotly.js), based on [d3.js](https://d3js.org/) which provides an easy-to-use UI to generate slick D3 interactive graphics. These interactive graphs give the user the ability to zoom the plot in and out, hover over a point to get additional information, filter to groups of points, and much more. These interactive components contribute to an engaging user experience and allows information to be displayed in ways that are not possible with static figures.\n",
    "\n",
    "- `plotly` is a web application for creating and sharing data visualizations. `plotly` can work with several programming languages and applications including R, Python, and Microsoft Excel. We're going to concentrate on creating different graphs with `plotly`.\n",
    "\n",
    "- Interactive Graphics!\n",
    "  - Zooming\n",
    "  - Silencing\n",
    "  - Hovering\n",
    "  - Sliding, etc.\n"
   ]
  },
  {
   "cell_type": "markdown",
   "metadata": {},
   "source": [
    "#### Install Plotly\n",
    "\n",
    "Install with pip\n",
    "`pip install plotly==5.14.1`"
   ]
  },
  {
   "cell_type": "markdown",
   "metadata": {},
   "source": [
    "#### Load packages and import some data"
   ]
  },
  {
   "cell_type": "code",
   "execution_count": null,
   "metadata": {},
   "outputs": [],
   "source": [
    "import pandas as pd\n",
    "import plotly.express as px"
   ]
  },
  {
   "cell_type": "markdown",
   "metadata": {},
   "source": [
    "Import the *iris* dataset and the *gapminder* dataset from `plotly`. You can check the available data from `plotly` [here](https://plotly.com/python-api-reference/generated/plotly.express.data.html)."
   ]
  },
  {
   "cell_type": "code",
   "execution_count": null,
   "metadata": {},
   "outputs": [],
   "source": [
    "iris = px.data.iris() # load iris data\n",
    "df = px.data.gapminder() # load gapminder data\n",
    "iris.head()"
   ]
  },
  {
   "cell_type": "code",
   "execution_count": null,
   "metadata": {},
   "outputs": [],
   "source": [
    "df.head()"
   ]
  },
  {
   "cell_type": "code",
   "execution_count": null,
   "metadata": {},
   "outputs": [],
   "source": [
    "df.info()"
   ]
  },
  {
   "cell_type": "markdown",
   "metadata": {},
   "source": [
    "---\n",
    "\n",
    "### Barplot\n",
    "\n",
    "Draw a barplot with *species* variable from the iris data."
   ]
  },
  {
   "cell_type": "code",
   "execution_count": null,
   "metadata": {},
   "outputs": [],
   "source": [
    "px.bar(iris, x='species', title=\"Frequencies of Species\")"
   ]
  },
  {
   "cell_type": "code",
   "execution_count": null,
   "metadata": {},
   "outputs": [],
   "source": [
    "p = px.bar(iris, x='species', title=\"Frequencies of Species\")\n",
    "print(p)"
   ]
  },
  {
   "cell_type": "code",
   "execution_count": null,
   "metadata": {},
   "outputs": [],
   "source": [
    "print(p.layout)"
   ]
  },
  {
   "cell_type": "code",
   "execution_count": null,
   "metadata": {},
   "outputs": [],
   "source": [
    "p.layout.title = 'frequencies of species' # change title"
   ]
  },
  {
   "cell_type": "code",
   "execution_count": null,
   "metadata": {},
   "outputs": [],
   "source": [
    "p.show()"
   ]
  },
  {
   "cell_type": "markdown",
   "metadata": {},
   "source": [
    "Draw another barplot using variables from the gapminder dataset."
   ]
  },
  {
   "cell_type": "code",
   "execution_count": null,
   "metadata": {},
   "outputs": [],
   "source": [
    "px.bar(df.query(\"country=='United States' | country=='Canada'\"), \n",
    "           x='year', y='pop', color='country') # stacked"
   ]
  },
  {
   "cell_type": "markdown",
   "metadata": {},
   "source": [
    "Create horizontal barplots and reorder the countries accordingly."
   ]
  },
  {
   "cell_type": "code",
   "execution_count": null,
   "metadata": {},
   "outputs": [],
   "source": [
    "px.bar(df.query(\"country=='United States' | country=='Canada'\"), \n",
    "       x='year', y='pop', color='country', barmode='group',\n",
    "       category_orders={\"country\": [\"United Sates\", \"Canada\"]})"
   ]
  },
  {
   "cell_type": "markdown",
   "metadata": {},
   "source": [
    "---\n",
    "### Histrogram\n",
    "\n",
    "Draw a histogram using *sepal_length* from the iris dataset."
   ]
  },
  {
   "cell_type": "code",
   "execution_count": null,
   "metadata": {},
   "outputs": [],
   "source": [
    "px.histogram(iris, x=\"sepal_length\", nbins=10)"
   ]
  },
  {
   "cell_type": "markdown",
   "metadata": {},
   "source": [
    "Draw a histogram of the average *sepal width* in the bins of *sepal_length*."
   ]
  },
  {
   "cell_type": "code",
   "execution_count": null,
   "metadata": {},
   "outputs": [],
   "source": [
    "px.histogram(iris, x=\"sepal_length\", y='sepal_width', histfunc='avg', nbins=10,\n",
    "             labels={'sepal_length': 'Sepal Length', 'sepal_width':'Sepal Width'})"
   ]
  },
  {
   "cell_type": "markdown",
   "metadata": {},
   "source": [
    "Modify the plot above by varying the color by species."
   ]
  },
  {
   "cell_type": "code",
   "execution_count": null,
   "metadata": {},
   "outputs": [],
   "source": [
    "px.histogram(iris, x=\"sepal_length\", y='sepal_width', histfunc='avg',\n",
    "             labels={'sepal_length': 'Sepal Length', 'sepal_width':'Sepal Width'}, \n",
    "             color=\"species\", \n",
    "             barmode=\"overlay\") # allow overlaying histograms."
   ]
  },
  {
   "cell_type": "markdown",
   "metadata": {},
   "source": [
    "---\n",
    "### Line plot"
   ]
  },
  {
   "cell_type": "code",
   "execution_count": null,
   "metadata": {},
   "outputs": [],
   "source": [
    "p = px.line(df.query(\"country=='United States' | country=='Canada'\"), \n",
    "        x=\"year\", y=\"lifeExp\", color='country')"
   ]
  },
  {
   "cell_type": "code",
   "execution_count": null,
   "metadata": {},
   "outputs": [],
   "source": [
    "# change layout\n",
    "p.update_layout(\n",
    "    legend=dict(\n",
    "    yanchor=\"bottom\",\n",
    "    y=0.02,\n",
    "    xanchor=\"right\",\n",
    "    x=0.99)\n",
    "    ,title='Average Life Expectancy by Country over Time')\n",
    "\n",
    "p.update_traces(mode=\"lines+markers\")"
   ]
  },
  {
   "cell_type": "markdown",
   "metadata": {},
   "source": [
    "---\n",
    "\n",
    "### Scatterplot"
   ]
  },
  {
   "cell_type": "code",
   "execution_count": null,
   "metadata": {},
   "outputs": [],
   "source": [
    "px.scatter(df.query(\"year==2002 & continent=='Americas'\"),  x=\"lifeExp\", y=\"gdpPercap\", color=\"country\",\n",
    "           title = 'Average Life Expectancy by Country in 2002')"
   ]
  },
  {
   "cell_type": "code",
   "execution_count": null,
   "metadata": {},
   "outputs": [],
   "source": [
    "p = px.scatter(df.query(\"year==2002 & continent=='Americas'\"),  x=\"lifeExp\", y=\"gdpPercap\", color=\"country\",\n",
    "           size='pop', # change the size of points proportionally to the population size.\n",
    "           title = 'Average Life Expectancy by Country in 2002',\n",
    "           labels={'lifeExp': 'Life Expectancy', 'gdpPercap':'GDP per Capita'}) # change labels\n",
    "p.show()"
   ]
  },
  {
   "cell_type": "code",
   "execution_count": null,
   "metadata": {},
   "outputs": [],
   "source": [
    "# adjust the width of the point edge and change the edge color to black.\n",
    "p.update_traces(marker=dict(line=dict(width=1.5, color='black')))"
   ]
  },
  {
   "cell_type": "markdown",
   "metadata": {},
   "source": [
    "---\n",
    "\n",
    "### Scatter or Correlation Matrix\n",
    "\n",
    "Draw a scatter matrix using the iris dataset"
   ]
  },
  {
   "cell_type": "code",
   "execution_count": null,
   "metadata": {},
   "outputs": [],
   "source": [
    "p = px.scatter_matrix(iris, \n",
    "                      dimensions=[\"sepal_width\", \"sepal_length\", \"petal_width\", \"petal_length\"],\n",
    "                      color=\"species\")\n",
    "\n",
    "p.show()\n",
    "#p.update_traces(diagonal_visible=False) # suppress the plots on the diagonal."
   ]
  },
  {
   "cell_type": "markdown",
   "metadata": {},
   "source": [
    "Create a correlation matrix and visualize it using the `imshow` function. `imshow` creates an image plot by mapping a 2D array of pixel values to colors and displaying the resulting image in a plot. This function can be used to create visualizations such as heatmaps, image classification results, and more. You can find available colorscales [here](https://plotly.com/python/builtin-colorscales/)."
   ]
  },
  {
   "cell_type": "code",
   "execution_count": null,
   "metadata": {},
   "outputs": [],
   "source": [
    "corr_mat = iris.drop(columns=['species_id']).corr()\n",
    "corr_mat"
   ]
  },
  {
   "cell_type": "code",
   "execution_count": null,
   "metadata": {},
   "outputs": [],
   "source": [
    "px.imshow(corr_mat, x=corr_mat.index, y=corr_mat.index,\n",
    "          color_continuous_scale=\"Viridis\") # try with [\"lightgrey\", \"grey\", \"black\"]"
   ]
  },
  {
   "cell_type": "markdown",
   "metadata": {},
   "source": [
    "---\n",
    "\n",
    "### Map Plot\n",
    "\n",
    "Choropleth maps display data on a map by shading regions with different colors."
   ]
  },
  {
   "cell_type": "code",
   "execution_count": null,
   "metadata": {},
   "outputs": [],
   "source": [
    "px.choropleth(df.query(\"year == 2002\"), \n",
    "              locations='iso_alpha',  # ISO country codes\n",
    "              color='gdpPercap',\n",
    "              color_continuous_scale=\"deep\",\n",
    "              title=\"World GDP per Capita (2002)\",\n",
    "              hover_name=\"country\") \n",
    "\n",
    "# add `, projection=\"natural earth\"` and see a difference."
   ]
  },
  {
   "cell_type": "markdown",
   "metadata": {},
   "source": [
    "Create a scatter plot on the map."
   ]
  },
  {
   "cell_type": "code",
   "execution_count": null,
   "metadata": {},
   "outputs": [],
   "source": [
    "px.scatter_geo(df.query(\"year == 2002\"),\n",
    "               locations=\"iso_alpha\",\n",
    "               color=\"continent\",\n",
    "               size=\"pop\",\n",
    "               projection=\"natural earth\",\n",
    "               hover_name=\"country\")"
   ]
  },
  {
   "cell_type": "markdown",
   "metadata": {},
   "source": [
    "---\n",
    "### Sunburst Plot\n",
    "\n",
    "A sunburst plot is a type of visualization that displays hierarchical data in a radial format, starting from the root and branching outwards to the leaves. The hierarchy is defined by labels and parent attributes. The root is lcoated at the center and the children are added to the outer rings."
   ]
  },
  {
   "cell_type": "code",
   "execution_count": null,
   "metadata": {},
   "outputs": [],
   "source": [
    "grade = pd.DataFrame({\n",
    "    'subject': ['Math', 'Math', 'Math', 'Science', 'Science', 'English', 'English', 'History'],\n",
    "    'grade': ['A', 'B', 'C', 'A', 'B', 'A', 'B', 'C'], \n",
    "    'number_of_students': [20, 30, 10, 15, 25, 30, 20, 5]\n",
    "})\n",
    "\n",
    "\n",
    "px.sunburst(grade, path=['subject', 'grade'], # hierarchical path\n",
    "            values='number_of_students')\n"
   ]
  },
  {
   "cell_type": "markdown",
   "metadata": {},
   "source": [
    "---\n",
    "### Facets\n",
    "\n",
    "You can use facets to analyze relationships within subgroups."
   ]
  },
  {
   "cell_type": "code",
   "execution_count": null,
   "metadata": {},
   "outputs": [],
   "source": [
    "px.scatter(df[df['year']==2002],  # alternative way to subset the data.\n",
    "           x=\"lifeExp\", y=\"gdpPercap\", color=\"country\", \n",
    "           facet_col=\"continent\") # add `, facet_col_wrap=2`"
   ]
  },
  {
   "cell_type": "markdown",
   "metadata": {
    "tags": []
   },
   "source": [
    "---\n",
    "### Animations\n",
    "\n",
    "Create an animated scatter plot by specifying the variable(s) to be animated, the animation frames (e.g., time or categories), and the duration and/or transition style of the animation."
   ]
  },
  {
   "cell_type": "code",
   "execution_count": null,
   "metadata": {},
   "outputs": [],
   "source": [
    "p = px.scatter(df[df['continent']=='Americas'], \n",
    "               x='lifeExp',\n",
    "               y='gdpPercap', \n",
    "               color='country', \n",
    "               animation_frame=\"year\", \n",
    "               animation_group=\"country\",\n",
    "               hover_name=\"country\"\n",
    ")\n",
    "\n",
    "p.show()"
   ]
  },
  {
   "cell_type": "code",
   "execution_count": null,
   "metadata": {},
   "outputs": [],
   "source": [
    "p.update_xaxes(range=[df.lifeExp.min(), df.lifeExp.max()])\n",
    "p.update_yaxes(range=[df.gdpPercap.min(), 50000])\n",
    "\n",
    "p.show()"
   ]
  },
  {
   "cell_type": "markdown",
   "metadata": {},
   "source": [
    "---  "
   ]
  },
  {
   "cell_type": "markdown",
   "metadata": {},
   "source": [
    "### TRY FOR YOURSELF\n",
    "Do the following:\n",
    "\n",
    "- Use `plotly` to add animinations on the scatter plot based on the gapminder dataset.\n",
    "   - Create a new dataframe using data from the 1990s and located in Asia:\n",
    "   - Fit a scatterplot between life expectancy (*lifeExp*) and GDP per Capita (*gdpPercap*), with point size based on population (*pop*)\n",
    "   - Add x-label, y-label, and title.\n",
    "   - Adjust x or y limits properly.\n",
    "   - Display the scatter plot."
   ]
  },
  {
   "cell_type": "code",
   "execution_count": null,
   "metadata": {},
   "outputs": [],
   "source": []
  },
  {
   "cell_type": "code",
   "execution_count": null,
   "metadata": {
    "jupyter": {
     "source_hidden": true
    },
    "tags": []
   },
   "outputs": [],
   "source": [
    "df2 = df.query(\"year < 2000 & continent=='Asia'\")\n",
    "p = px.scatter(df2,\n",
    "               x='lifeExp',\n",
    "               y='gdpPercap', \n",
    "               color='country', \n",
    "               size='pop',\n",
    "               animation_frame=\"year\", \n",
    "               animation_group=\"country\",\n",
    "               hover_name='country',\n",
    "               title = 'Average Life Expectancy vs. GDP per Capita',\n",
    "               labels={'lifeExp': 'Life Expectancy', 'gdpPercap':'GDP per Capita'}\n",
    " \n",
    ")\n",
    "\n",
    "p.update_xaxes(range=[df.lifeExp.min(), df.lifeExp.max()])\n",
    "p.update_yaxes(range=[-5000, 50000])\n",
    "\n",
    "p.show()"
   ]
  }
 ],
 "metadata": {
  "anaconda-cloud": {},
  "kernelspec": {
   "display_name": "Python 3 (ipykernel)",
   "language": "python",
   "name": "python3"
  },
  "language_info": {
   "codemirror_mode": {
    "name": "ipython",
    "version": 3
   },
   "file_extension": ".py",
   "mimetype": "text/x-python",
   "name": "python",
   "nbconvert_exporter": "python",
   "pygments_lexer": "ipython3",
   "version": "3.9.12"
  },
  "toc-autonumbering": false,
  "toc-showcode": false
 },
 "nbformat": 4,
 "nbformat_minor": 4
}
