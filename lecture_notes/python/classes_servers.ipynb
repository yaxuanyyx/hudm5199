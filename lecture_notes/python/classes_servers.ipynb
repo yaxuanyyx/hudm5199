{
 "cells": [
  {
   "cell_type": "markdown",
   "metadata": {},
   "source": [
    "## Working with Servers\n",
    "### Application of Classes\n",
    "\n",
    "\n",
    "### Programming for Data Science\n",
    "### Last Updated: Jan 15, 2023\n",
    "---"
   ]
  },
  {
   "cell_type": "markdown",
   "metadata": {},
   "source": [
    "### Objectives: \n",
    "- Define a class\n",
    "- Work with an object's attributes and methods\n",
    "\n",
    "### Executive Summary\n",
    "\n",
    "The fictitious global e-commerce and cloud computing juggernaut TCAWS offers cloud compute as a service with a range of  server options.  \n",
    "\n",
    "You will define and work with a class to instantiate a server."
   ]
  },
  {
   "cell_type": "markdown",
   "metadata": {},
   "source": [
    "1) Define a class with these requirements:\n",
    "\n",
    "- call it *V3*\n",
    "- it needs attributes:\n",
    "  - instance_size\n",
    "  - num_vcpus     (number of virtual CPUs)\n",
    "  - memory        (GBs)\n",
    "  - disk_space    (TBs)\n",
    "\n",
    "- it needs methods (parameters in parentheses):  \n",
    "  - add_disk_space(amt_to_add)  \n",
    "    this adds disk space to the current disk space\n",
    "    \n",
    "    \n",
    "  - has_enough_disk_space(amt_required)  \n",
    "    this checks if the amount required is available\n",
    "  \n",
    "- it needs to be initialized (__init__ method) by setting all of the attributes above\n",
    "  "
   ]
  },
  {
   "cell_type": "code",
   "execution_count": null,
   "metadata": {},
   "outputs": [],
   "source": []
  },
  {
   "cell_type": "markdown",
   "metadata": {},
   "source": [
    "2) Instantiate a V3 object with these attributes:\n",
    "\n",
    "- instance_size: 'large'\n",
    "- num_vcpus: 32\n",
    "- memory: 256\n",
    "- disk_space: 1"
   ]
  },
  {
   "cell_type": "code",
   "execution_count": null,
   "metadata": {},
   "outputs": [],
   "source": []
  },
  {
   "cell_type": "markdown",
   "metadata": {},
   "source": [
    "3) Use the add_disk_space() method to add 2 TB disk space, and then print the updated disk space using dot operator."
   ]
  },
  {
   "cell_type": "code",
   "execution_count": null,
   "metadata": {},
   "outputs": [],
   "source": []
  },
  {
   "cell_type": "markdown",
   "metadata": {},
   "source": [
    "4) Call the has_enough_disk_space() method with a request of 10TB to check if the requested space is available."
   ]
  },
  {
   "cell_type": "code",
   "execution_count": null,
   "metadata": {},
   "outputs": [],
   "source": []
  },
  {
   "cell_type": "markdown",
   "metadata": {},
   "source": [
    "---"
   ]
  }
 ],
 "metadata": {
  "kernelspec": {
   "display_name": "Python 3 (ipykernel)",
   "language": "python",
   "name": "python3"
  },
  "language_info": {
   "codemirror_mode": {
    "name": "ipython",
    "version": 3
   },
   "file_extension": ".py",
   "mimetype": "text/x-python",
   "name": "python",
   "nbconvert_exporter": "python",
   "pygments_lexer": "ipython3",
   "version": "3.9.12"
  }
 },
 "nbformat": 4,
 "nbformat_minor": 4
}
