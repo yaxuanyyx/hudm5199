{
 "cells": [
  {
   "cell_type": "markdown",
   "metadata": {},
   "source": [
    "## Visualization: `plotnine` (aka `ggplot`)\n",
    "\n",
    "### Programming for Data Science\n",
    "### Created: April 11, 2023\n",
    "---  \n",
    "\n",
    "### PREREQUISITES\n",
    "- variables\n",
    "- data types\n",
    "- numpy\n",
    "- pandas\n",
    "\n",
    "### SOURCES \n",
    "- https://plotnine.readthedocs.io/en/stable/index.html\n",
    "- https://datacarpentry.org/python-ecology-lesson/07-visualization-ggplot-python/index.html\n",
    "\n",
    "### OBJECTIVES\n",
    "- Introduce some basic functionality of the `plotnine` (aka `ggplot`) package\n",
    "\n",
    "\n",
    "### CONCEPTS\n",
    "- creating various visualizations (e.g., barplot, histrogram, boxplot)\n",
    "- changing xlabel, ylabel, and title\n",
    "- changing figure styles and themes\n",
    "- creating facets: `facet_wrap()` and `facet_grid()`\n",
    "\n",
    "---"
   ]
  },
  {
   "cell_type": "markdown",
   "metadata": {},
   "source": [
    "### `plotnine`\n",
    "\n",
    "- Python provides various powerful plotting libraries to choose from. One of the most popular and oldest libraries is `matplotlib`, which serves as a basis for many other Python plotting libraries. In this lecture note, we will be using `plotnine`, which is a Python implementation of [The Grammar of Graphics](https://link.springer.com/book/10.1007/0-387-28695-0) and is inspired by the `ggplot2` package from `R`. `plotnine` is known for providing a user-friendly interface and generating publication-quality plots.\n",
    "\n",
    "\n",
    "- Decompose graphics into eight components:\n",
    "\n",
    "  + Data\n",
    "  + Mapping\n",
    "  + Geometries\n",
    "  + Statistics\n",
    "  + Scales\n",
    "  + Facets\n",
    "  + Coordinates\n",
    "  + Themes\n",
    "\n",
    "```\n",
    "ggplot(data = <DATA>) + \n",
    "  <GEOM_FUNCTION>(\n",
    "     mapping = aes(<MAPPINGS>),\n",
    "     stat = <STAT>,\n",
    "     position = <POSITION>\n",
    "  ) +\n",
    "  <SCALE_FUNCTION> +\n",
    "  <COORDINATE_FUNCTION> +\n",
    "  <FACET_FUNCTION> + ...\n",
    "```  "
   ]
  },
  {
   "cell_type": "markdown",
   "metadata": {},
   "source": [
    "#### Install plotnine\n",
    "\n",
    "Install the `plotnine` library.\n",
    "\n",
    "`pip install plotnine`"
   ]
  },
  {
   "cell_type": "markdown",
   "metadata": {},
   "source": [
    "#### Load packages and import iris data"
   ]
  },
  {
   "cell_type": "code",
   "execution_count": null,
   "metadata": {},
   "outputs": [],
   "source": [
    "import numpy as np\n",
    "import pandas as pd\n",
    "import seaborn as sns\n",
    "from plotnine import *"
   ]
  },
  {
   "cell_type": "code",
   "execution_count": null,
   "metadata": {},
   "outputs": [],
   "source": [
    "iris = sns.load_dataset('iris')\n",
    "iris.head(10)"
   ]
  },
  {
   "cell_type": "code",
   "execution_count": null,
   "metadata": {},
   "outputs": [],
   "source": [
    "iris.head()"
   ]
  },
  {
   "cell_type": "markdown",
   "metadata": {},
   "source": [
    "---\n",
    "\n",
    "### Barplot\n",
    "\n",
    "\n",
    "A boxplot is a widely used method of representing the distribution of data using a summary of five numbers (minimum, first quartile, second quartile, third quartile, and maximum). It provides information about outliers, symmetry of data, and the degree of grouping.\n",
    "\n"
   ]
  },
  {
   "cell_type": "code",
   "execution_count": null,
   "metadata": {},
   "outputs": [],
   "source": [
    "ggplot(data=iris) + geom_bar(mapping = aes(x = \"species\"))"
   ]
  },
  {
   "cell_type": "markdown",
   "metadata": {},
   "source": [
    "`geom_bar()` uses `stat_count()` by default. We can reproduce the barplot using `stat_count()`. "
   ]
  },
  {
   "cell_type": "code",
   "execution_count": null,
   "metadata": {},
   "outputs": [],
   "source": [
    "ggplot(data=iris) + stat_count(aes(x = \"species\"))"
   ]
  },
  {
   "cell_type": "markdown",
   "metadata": {},
   "source": [
    "If you have precomputed data, use `identity` stat."
   ]
  },
  {
   "cell_type": "code",
   "execution_count": null,
   "metadata": {},
   "outputs": [],
   "source": [
    "species_counted = pd.DataFrame({'species':['setosa', 'versicolor', 'virginica'], 'count':[50, 50, 50]})\n",
    "species_counted"
   ]
  },
  {
   "cell_type": "code",
   "execution_count": null,
   "metadata": {},
   "outputs": [],
   "source": [
    "ggplot(species_counted) + geom_bar(aes(x = \"species\", y = \"count\"), stat = 'identity')"
   ]
  },
  {
   "cell_type": "code",
   "execution_count": null,
   "metadata": {},
   "outputs": [],
   "source": [
    "ggplot(species_counted) + geom_col(aes(x = \"species\", y = \"count\")) # shortcut"
   ]
  },
  {
   "cell_type": "markdown",
   "metadata": {},
   "source": [
    "A stacked plot with frequencies"
   ]
  },
  {
   "cell_type": "code",
   "execution_count": null,
   "metadata": {},
   "outputs": [],
   "source": [
    "ggplot(species_counted) + geom_bar(aes(x=0, y = \"count\", fill=\"species\"), stat = \"identity\") "
   ]
  },
  {
   "cell_type": "markdown",
   "metadata": {},
   "source": [
    "Based on the vector type of the variable *sepal_high*, a discrete colour scale is picked."
   ]
  },
  {
   "cell_type": "code",
   "execution_count": null,
   "metadata": {},
   "outputs": [],
   "source": [
    "# create a new variable named 'sepal_high' to indicate whether the values of sepal lengh are higher than its median.\n",
    "iris[\"sepal_high\"] = iris.sepal_length > iris.sepal_length.median()\n",
    "\n",
    "# if you like, you can convert 'sepal_high' column to (0, 1)\n",
    "# iris.sepal_high = iris.sepal_high.replace({True: \"1\", False: \"0\"})"
   ]
  },
  {
   "cell_type": "code",
   "execution_count": null,
   "metadata": {},
   "outputs": [],
   "source": [
    "ggplot(iris) + geom_bar(aes(x = \"species\", fill=\"sepal_high\"))"
   ]
  },
  {
   "cell_type": "markdown",
   "metadata": {},
   "source": [
    "You may want to change colors."
   ]
  },
  {
   "cell_type": "code",
   "execution_count": null,
   "metadata": {},
   "outputs": [],
   "source": [
    "ggplot(iris) + geom_bar(aes(x = \"species\", fill=\"sepal_high\")) + scale_fill_brewer(palette=3)"
   ]
  },
  {
   "cell_type": "markdown",
   "metadata": {},
   "source": [
    "You may want to choose colors manually."
   ]
  },
  {
   "cell_type": "code",
   "execution_count": null,
   "metadata": {},
   "outputs": [],
   "source": [
    "ggplot(iris) + geom_bar(aes(x = \"species\", fill=\"sepal_high\")) + scale_fill_manual(values=(\"#999999\", \"#E69F00\"))"
   ]
  },
  {
   "cell_type": "markdown",
   "metadata": {},
   "source": [
    "A stacked plot with proportions. `position = \"fill\"` makes “proportion bars”."
   ]
  },
  {
   "cell_type": "code",
   "execution_count": null,
   "metadata": {},
   "outputs": [],
   "source": [
    "ggplot(iris) + geom_bar(aes(x = \"species\", fill=\"sepal_high\"), position = \"fill\") + \\\n",
    "  labs(x=\"Species\", y=\"Proportion\", title=\"Stacked plot\")"
   ]
  },
  {
   "cell_type": "markdown",
   "metadata": {},
   "source": [
    "---\n",
    "\n",
    "### Histogram\n",
    "\n",
    "Draw a histogram with a continuous variable.\n"
   ]
  },
  {
   "cell_type": "code",
   "execution_count": null,
   "metadata": {},
   "outputs": [],
   "source": [
    "ggplot(iris) + geom_histogram(aes(x = \"sepal_length\"), bins = 20) + theme_minimal()"
   ]
  },
  {
   "cell_type": "markdown",
   "metadata": {},
   "source": [
    "Draw a density plot."
   ]
  },
  {
   "cell_type": "code",
   "execution_count": null,
   "metadata": {},
   "outputs": [],
   "source": [
    "ggplot(iris) + geom_density(aes(x = \"sepal_length\")) + theme_minimal()"
   ]
  },
  {
   "cell_type": "markdown",
   "metadata": {},
   "source": [
    "Draw a histogram with groups."
   ]
  },
  {
   "cell_type": "code",
   "execution_count": null,
   "metadata": {},
   "outputs": [],
   "source": [
    "ggplot(iris) + geom_histogram(aes(x = \"sepal_length\", fill=\"species\"), bins=20, alpha=0.7) + theme_bw()"
   ]
  },
  {
   "cell_type": "markdown",
   "metadata": {},
   "source": [
    "---\n",
    "\n",
    "### Boxplot\n",
    "\n",
    "Draw a boxplot."
   ]
  },
  {
   "cell_type": "code",
   "execution_count": null,
   "metadata": {},
   "outputs": [],
   "source": [
    "ggplot(iris) + geom_boxplot(aes(x =0, y= \"sepal_length\")) "
   ]
  },
  {
   "cell_type": "markdown",
   "metadata": {},
   "source": [
    "Remove everything on the x-axis including the texts and tick marks."
   ]
  },
  {
   "cell_type": "code",
   "execution_count": null,
   "metadata": {},
   "outputs": [],
   "source": [
    "ggplot(iris) + geom_boxplot(aes(x =0, y= \"sepal_length\")) + \\\n",
    "       theme(axis_title_x = element_blank(), axis_text_x = element_blank(), axis_ticks_major_x=element_blank())"
   ]
  },
  {
   "cell_type": "markdown",
   "metadata": {},
   "source": [
    "Draw a boxplot by the variable *\"species\"*."
   ]
  },
  {
   "cell_type": "code",
   "execution_count": null,
   "metadata": {},
   "outputs": [],
   "source": [
    "ggplot(iris, aes(x = \"species\", y = \"sepal_length\")) + geom_boxplot()"
   ]
  },
  {
   "cell_type": "markdown",
   "metadata": {},
   "source": [
    "---\n",
    "\n",
    "### Violin Plot\n",
    "\n",
    "A violin plot displays distributions of numeric data for one or more groups using density curves. The width of each curve corresponds with the approximate frequency of data points in each region."
   ]
  },
  {
   "cell_type": "code",
   "execution_count": null,
   "metadata": {},
   "outputs": [],
   "source": [
    "ggplot(iris, aes(x = \"species\", y = \"sepal_length\")) + geom_violin() + theme_bw()"
   ]
  },
  {
   "cell_type": "markdown",
   "metadata": {},
   "source": [
    "You may want to overlay data points."
   ]
  },
  {
   "cell_type": "code",
   "execution_count": null,
   "metadata": {},
   "outputs": [],
   "source": [
    "ggplot(iris, aes(x = \"species\", y = \"sepal_length\")) + geom_violin() + \\\n",
    "  geom_point(alpha=0.2) + theme_bw()"
   ]
  },
  {
   "cell_type": "markdown",
   "metadata": {},
   "source": [
    "You may want to jitter data points."
   ]
  },
  {
   "cell_type": "code",
   "execution_count": null,
   "metadata": {},
   "outputs": [],
   "source": [
    "ggplot(iris, aes(x = \"species\", y = \"sepal_length\")) + geom_violin() + \\\n",
    "  geom_jitter(width = 0.1, height = 0.1, alpha=0.2) + theme_bw()"
   ]
  },
  {
   "cell_type": "markdown",
   "metadata": {},
   "source": [
    "---\n",
    "\n",
    "### Quantile-Comparison Plot\n",
    "\n",
    "Compare the observed (empirical) sample distribution of a variable with a theoretical distribution. "
   ]
  },
  {
   "cell_type": "code",
   "execution_count": null,
   "metadata": {},
   "outputs": [],
   "source": [
    "ggplot(iris, aes(sample = \"sepal_length\")) + stat_qq() + stat_qq_line() + theme_classic()"
   ]
  },
  {
   "cell_type": "markdown",
   "metadata": {},
   "source": [
    "---\n",
    "\n",
    "### Scatterplot\n",
    "\n",
    "`geom_point()` with two continuous variables"
   ]
  },
  {
   "cell_type": "code",
   "execution_count": null,
   "metadata": {},
   "outputs": [],
   "source": [
    "ggplot(iris, aes(x = \"sepal_width\", y = \"sepal_length\")) + geom_point() + theme_bw()"
   ]
  },
  {
   "cell_type": "markdown",
   "metadata": {},
   "source": [
    "Jittered scatterplot; “jittering” adds a small random quantity (uniformly distributed) to each\n",
    "observation."
   ]
  },
  {
   "cell_type": "code",
   "execution_count": null,
   "metadata": {},
   "outputs": [],
   "source": [
    "ggplot(iris, aes(x = \"sepal_width\", y = \"sepal_length\")) + geom_jitter() + theme_bw()"
   ]
  },
  {
   "cell_type": "markdown",
   "metadata": {},
   "source": [
    "Scatterplot with different transparency  levels; `alpha` controls the degree of transparency for data points."
   ]
  },
  {
   "cell_type": "code",
   "execution_count": null,
   "metadata": {},
   "outputs": [],
   "source": [
    "ggplot(iris, aes(x = \"sepal_width\", y = \"sepal_length\")) + geom_point(alpha=0.3) + theme_bw()"
   ]
  },
  {
   "cell_type": "markdown",
   "metadata": {},
   "source": [
    "Scatterplot with groups; use the argument `color` or `shape` inside `aes()`."
   ]
  },
  {
   "cell_type": "code",
   "execution_count": null,
   "metadata": {},
   "outputs": [],
   "source": [
    "# change color\n",
    "ggplot(iris, aes(x = \"sepal_width\", y = \"sepal_length\", color=\"species\")) + \\\n",
    "  geom_point(alpha=0.3) + theme_bw()"
   ]
  },
  {
   "cell_type": "code",
   "execution_count": null,
   "metadata": {},
   "outputs": [],
   "source": [
    "# change shape\n",
    "ggplot(iris, aes(x = \"sepal_width\", y = \"sepal_length\", shape=\"species\")) + \\\n",
    "  geom_point(alpha=0.3) + theme_bw()"
   ]
  },
  {
   "cell_type": "markdown",
   "metadata": {},
   "source": [
    "---\n",
    "### Facets\n",
    "\n",
    "- Two facet functions for splitting data by categories\n",
    "\n",
    "- `facet_wrap()` : \"wraps\" a 1d ribbon of panels into 2d.\n",
    "\n",
    "- `facet_grid()` : produces a 2d grid of panels defined by variables which form the rows and columns.\n"
   ]
  },
  {
   "cell_type": "markdown",
   "metadata": {},
   "source": [
    "#### facet_wrap()\n",
    "\n",
    "Use `facet_wrap()` with one categorical variable"
   ]
  },
  {
   "cell_type": "code",
   "execution_count": null,
   "metadata": {},
   "outputs": [],
   "source": [
    "ggplot(iris, aes(x = \"sepal_width\", y = \"sepal_length\")) + geom_point() + \\\n",
    "  facet_wrap(\" ~ species\")"
   ]
  },
  {
   "cell_type": "markdown",
   "metadata": {},
   "source": [
    "Use `facet_wrap()` with two categorical variables: *\"species\"* and *\"sepal_high\"*"
   ]
  },
  {
   "cell_type": "code",
   "execution_count": null,
   "metadata": {},
   "outputs": [],
   "source": [
    "ggplot(iris, aes(x = \"sepal_width\", y = \"sepal_length\")) + geom_point() + \\\n",
    "  facet_wrap(\"~ species + sepal_high\") # consider adding ', nrow=1' to the facet_wrap function to specify the number of rows in the resulting plot grid."
   ]
  },
  {
   "cell_type": "markdown",
   "metadata": {},
   "source": [
    "#### facet_grid()\n",
    "\n",
    "Use `facet_grid()` with variables *\"species\"* and *\"sepal_high\"*. "
   ]
  },
  {
   "cell_type": "code",
   "execution_count": null,
   "metadata": {},
   "outputs": [],
   "source": [
    "ggplot(iris, aes(x = \"sepal_width\", y = \"sepal_length\")) + geom_point() + \\\n",
    "  facet_grid(\"sepal_high ~ species \")"
   ]
  },
  {
   "cell_type": "code",
   "execution_count": null,
   "metadata": {},
   "outputs": [],
   "source": [
    "ggplot(iris, aes(x = \"sepal_width\", y = \"sepal_length\")) + geom_point() + \\\n",
    "  facet_grid(\" ~ species +  sepal_high\")"
   ]
  },
  {
   "cell_type": "markdown",
   "metadata": {},
   "source": [
    "---\n",
    "### Combing multiple plots\n",
    "\n",
    "`patchworklib` is a library that allows the creation of composite plots using `matplotlib`, `seaborn`, and `plotnine`. It was inspired by the `patchwork` package in ggplot2. The library allows for easy alignment of matplotlib plots using \"/\" and \"|\" (or \"+\") operators.\n",
    "\n",
    "install patchworklib\n",
    "`pip install patchworklib`"
   ]
  },
  {
   "cell_type": "code",
   "execution_count": null,
   "metadata": {},
   "outputs": [],
   "source": [
    "import patchworklib as pw"
   ]
  },
  {
   "cell_type": "code",
   "execution_count": null,
   "metadata": {},
   "outputs": [],
   "source": [
    "g1 = ggplot(data=iris) + geom_bar(mapping = aes(x = \"species\"))\n",
    "g2 = ggplot(iris) + geom_histogram(aes(x = \"sepal_length\"), bins = 20) + theme_minimal()\n",
    "g3 = ggplot(iris, aes(x = \"sepal_width\", y = \"sepal_length\", shape=\"species\")) + \\\n",
    "  geom_point(alpha=0.3) + theme_bw()\n",
    "\n",
    "g1 = pw.load_ggplot(g1, figsize=(2,2))\n",
    "g2 = pw.load_ggplot(g2, figsize=(2,2))\n",
    "g3 = pw.load_ggplot(g3, figsize=(4,2))"
   ]
  },
  {
   "cell_type": "code",
   "execution_count": null,
   "metadata": {},
   "outputs": [],
   "source": [
    "# arrange three plots horizontally\n",
    "g123 = (g1|g2|g3) # try with the symbol \"+\" instead of \"|\"\n",
    "g123"
   ]
  },
  {
   "cell_type": "code",
   "execution_count": null,
   "metadata": {},
   "outputs": [],
   "source": [
    "# place the first two plots at the top and the third one at the bottom\n",
    "g123_2 = (g1|g2)/g3 # try with the symbol \"+\" instead of \"|\"\n",
    "g123_2"
   ]
  },
  {
   "cell_type": "code",
   "execution_count": null,
   "metadata": {},
   "outputs": [],
   "source": [
    "g123.savefig(\"figure_plotnine.png\") # save figure"
   ]
  },
  {
   "cell_type": "markdown",
   "metadata": {},
   "source": [
    "---"
   ]
  },
  {
   "cell_type": "markdown",
   "metadata": {},
   "source": [
    "### TRY FOR YOURSELF\n",
    "Do the following:\n",
    "\n",
    "\n",
    "Use the petal length variable (“petal_length”) of the iris data and plot\n",
    "\n",
    "- a kernel density estimate,\n",
    "- a set of boxplots showing the distribution of “petal_length” by \"species\" \n",
    "\n",
    "You need to use `patchworklib` package to create a plotting region consisting of two subplots. Fianlly, save the plot as a `.png` file."
   ]
  },
  {
   "cell_type": "code",
   "execution_count": null,
   "metadata": {},
   "outputs": [],
   "source": []
  },
  {
   "cell_type": "code",
   "execution_count": null,
   "metadata": {
    "jupyter": {
     "source_hidden": true
    },
    "tags": []
   },
   "outputs": [],
   "source": [
    "p1 = ggplot(iris) + geom_density(aes(x = \"petal_length\")) + theme_minimal()\n",
    "p2 = ggplot(iris, aes(x = \"species\", y = \"petal_length\", color = \"species\")) + geom_boxplot() + theme_minimal()\n",
    "\n",
    "p1 = pw.load_ggplot(p1, figsize=(2,2))\n",
    "p2 = pw.load_ggplot(p2, figsize=(2,2))\n",
    "\n",
    "g12 = p1|g2\n",
    "g12.savefig(\"figure2_plotnine.png\")"
   ]
  }
 ],
 "metadata": {
  "anaconda-cloud": {},
  "kernelspec": {
   "display_name": "Python 3 (ipykernel)",
   "language": "python",
   "name": "python3"
  },
  "language_info": {
   "codemirror_mode": {
    "name": "ipython",
    "version": 3
   },
   "file_extension": ".py",
   "mimetype": "text/x-python",
   "name": "python",
   "nbconvert_exporter": "python",
   "pygments_lexer": "ipython3",
   "version": "3.9.12"
  },
  "toc-autonumbering": false,
  "toc-showcode": false
 },
 "nbformat": 4,
 "nbformat_minor": 4
}
